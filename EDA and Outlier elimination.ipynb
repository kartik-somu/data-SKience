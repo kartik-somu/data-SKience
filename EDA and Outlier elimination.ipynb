{
 "cells": [
  {
   "cell_type": "markdown",
   "metadata": {},
   "source": [
    "### <font color=darkblue> Import Libraries"
   ]
  },
  {
   "cell_type": "code",
   "execution_count": 1,
   "metadata": {},
   "outputs": [],
   "source": [
    "import pandas as pd\n",
    "import numpy as np\n",
    "import scipy\n",
    "from matplotlib import pyplot as plt\n",
    "import seaborn as sns\n",
    "from sklearn.cluster import KMeans \n",
    "from sklearn.cluster import KMeans \n",
    "%matplotlib inline\n",
    "import statsmodels.api as sm # regression function resides here\n",
    "import statsmodels.formula.api as smf \n",
    "import warnings\n",
    "warnings.filterwarnings(\"ignore\")"
   ]
  },
  {
   "cell_type": "markdown",
   "metadata": {},
   "source": [
    "### <font color=darkblue> Read Transaction Dataset and view first five records\n",
    "<font color=darkblue> Subscription Master is the Fact table with all transactions"
   ]
  },
  {
   "cell_type": "code",
   "execution_count": 2,
   "metadata": {},
   "outputs": [],
   "source": [
    "sub=pd.read_csv(\"sub.csv\")"
   ]
  },
  {
   "cell_type": "code",
   "execution_count": 3,
   "metadata": {},
   "outputs": [
    {
     "data": {
      "text/html": [
       "<div>\n",
       "<style scoped>\n",
       "    .dataframe tbody tr th:only-of-type {\n",
       "        vertical-align: middle;\n",
       "    }\n",
       "\n",
       "    .dataframe tbody tr th {\n",
       "        vertical-align: top;\n",
       "    }\n",
       "\n",
       "    .dataframe thead th {\n",
       "        text-align: right;\n",
       "    }\n",
       "</style>\n",
       "<table border=\"1\" class=\"dataframe\">\n",
       "  <thead>\n",
       "    <tr style=\"text-align: right;\">\n",
       "      <th></th>\n",
       "      <th>id</th>\n",
       "      <th>created_at</th>\n",
       "      <th>end_date</th>\n",
       "      <th>is_active</th>\n",
       "      <th>product_name</th>\n",
       "      <th>product_quantity</th>\n",
       "      <th>product_type</th>\n",
       "      <th>product_unit</th>\n",
       "      <th>product_unit_cost</th>\n",
       "      <th>recently_changed_flag</th>\n",
       "      <th>...</th>\n",
       "      <th>product_master</th>\n",
       "      <th>subscription_type</th>\n",
       "      <th>user</th>\n",
       "      <th>offer_id</th>\n",
       "      <th>pause_start_date</th>\n",
       "      <th>pause_end_date</th>\n",
       "      <th>subscription_coupon_code</th>\n",
       "      <th>metadata</th>\n",
       "      <th>source</th>\n",
       "      <th>fulfilled_by_vendor</th>\n",
       "    </tr>\n",
       "  </thead>\n",
       "  <tbody>\n",
       "    <tr>\n",
       "      <th>0</th>\n",
       "      <td>00000039-f06f-4b17-8616-2610be32b5f3</td>\n",
       "      <td>2019-06-13 16:13:12</td>\n",
       "      <td>2019-06-14 23:59:59</td>\n",
       "      <td>1</td>\n",
       "      <td>Delivery charge</td>\n",
       "      <td>1</td>\n",
       "      <td>54.0</td>\n",
       "      <td>1</td>\n",
       "      <td>5.0</td>\n",
       "      <td>1</td>\n",
       "      <td>...</td>\n",
       "      <td>4d7a9702-c1cc-42df-979f-48067ca03142</td>\n",
       "      <td>DkFOhwBsDA</td>\n",
       "      <td>397cad1f-89f7-4e41-b6c1-b57f2a7bd6e5</td>\n",
       "      <td>NaN</td>\n",
       "      <td>NaN</td>\n",
       "      <td>NaN</td>\n",
       "      <td>NaN</td>\n",
       "      <td>NaN</td>\n",
       "      <td>0.0</td>\n",
       "      <td>NaN</td>\n",
       "    </tr>\n",
       "    <tr>\n",
       "      <th>1</th>\n",
       "      <td>000007c7-3121-4ae9-993f-550106e6f2f9</td>\n",
       "      <td>2019-06-11 17:18:31</td>\n",
       "      <td>2019-06-12 23:59:59</td>\n",
       "      <td>1</td>\n",
       "      <td>Dishwash Liquid Pril</td>\n",
       "      <td>2</td>\n",
       "      <td>19.0</td>\n",
       "      <td>425 ml</td>\n",
       "      <td>99.0</td>\n",
       "      <td>1</td>\n",
       "      <td>...</td>\n",
       "      <td>0bdeb59b-cea0-44bd-97ef-edbc3a7ace82</td>\n",
       "      <td>DkFOhwBsDA</td>\n",
       "      <td>0a7d1c3c-7aba-4649-838b-1e49b62b2a2d</td>\n",
       "      <td>NaN</td>\n",
       "      <td>NaN</td>\n",
       "      <td>NaN</td>\n",
       "      <td>NaN</td>\n",
       "      <td>NaN</td>\n",
       "      <td>0.0</td>\n",
       "      <td>NaN</td>\n",
       "    </tr>\n",
       "    <tr>\n",
       "      <th>2</th>\n",
       "      <td>000007ee-c01c-42d0-b541-8a46d97014ef</td>\n",
       "      <td>2019-03-02 15:47:31</td>\n",
       "      <td>2019-03-03 23:59:59</td>\n",
       "      <td>1</td>\n",
       "      <td>Nandini Shubham Milk</td>\n",
       "      <td>2</td>\n",
       "      <td>1.0</td>\n",
       "      <td>500 ml</td>\n",
       "      <td>21.0</td>\n",
       "      <td>1</td>\n",
       "      <td>...</td>\n",
       "      <td>54a2d415-97ec-4f5b-b338-1eae07777644</td>\n",
       "      <td>DkFOhwBsDA</td>\n",
       "      <td>a6c1541b-16c0-4460-85ab-6d68760fe764</td>\n",
       "      <td>NaN</td>\n",
       "      <td>NaN</td>\n",
       "      <td>NaN</td>\n",
       "      <td>NaN</td>\n",
       "      <td>NaN</td>\n",
       "      <td>0.0</td>\n",
       "      <td>NaN</td>\n",
       "    </tr>\n",
       "    <tr>\n",
       "      <th>3</th>\n",
       "      <td>00000e5b-15a6-48f3-a8fd-b8360174c09c</td>\n",
       "      <td>2019-09-09 15:48:06</td>\n",
       "      <td>2019-09-10 23:59:59</td>\n",
       "      <td>1</td>\n",
       "      <td>Nandini Shubham Milk</td>\n",
       "      <td>1</td>\n",
       "      <td>1.0</td>\n",
       "      <td>500 ml</td>\n",
       "      <td>22.0</td>\n",
       "      <td>1</td>\n",
       "      <td>...</td>\n",
       "      <td>dbcbce69-f5bb-4889-a892-6a686eca1354</td>\n",
       "      <td>DkFOhwBsDA</td>\n",
       "      <td>8e67aa7e-1ba6-44f5-bea9-113a3bb0ce41</td>\n",
       "      <td>NaN</td>\n",
       "      <td>NaN</td>\n",
       "      <td>NaN</td>\n",
       "      <td>NaN</td>\n",
       "      <td>NaN</td>\n",
       "      <td>0.0</td>\n",
       "      <td>1.0</td>\n",
       "    </tr>\n",
       "    <tr>\n",
       "      <th>4</th>\n",
       "      <td>000011ca-5128-4537-86e9-4556e4b83957</td>\n",
       "      <td>2019-07-21 14:07:57</td>\n",
       "      <td>2019-07-22 23:59:59</td>\n",
       "      <td>1</td>\n",
       "      <td>Nandini Curd</td>\n",
       "      <td>1</td>\n",
       "      <td>4.0</td>\n",
       "      <td>500 gm</td>\n",
       "      <td>22.0</td>\n",
       "      <td>1</td>\n",
       "      <td>...</td>\n",
       "      <td>8eaebce4-7f3d-4753-be94-7bef0b75509d</td>\n",
       "      <td>DkFOhwBsDA</td>\n",
       "      <td>f056bc8d-c5a0-4345-a6a9-bf8455d089d9</td>\n",
       "      <td>NaN</td>\n",
       "      <td>NaN</td>\n",
       "      <td>NaN</td>\n",
       "      <td>NaN</td>\n",
       "      <td>NaN</td>\n",
       "      <td>0.0</td>\n",
       "      <td>1.0</td>\n",
       "    </tr>\n",
       "  </tbody>\n",
       "</table>\n",
       "<p>5 rows × 23 columns</p>\n",
       "</div>"
      ],
      "text/plain": [
       "                                     id           created_at  \\\n",
       "0  00000039-f06f-4b17-8616-2610be32b5f3  2019-06-13 16:13:12   \n",
       "1  000007c7-3121-4ae9-993f-550106e6f2f9  2019-06-11 17:18:31   \n",
       "2  000007ee-c01c-42d0-b541-8a46d97014ef  2019-03-02 15:47:31   \n",
       "3  00000e5b-15a6-48f3-a8fd-b8360174c09c  2019-09-09 15:48:06   \n",
       "4  000011ca-5128-4537-86e9-4556e4b83957  2019-07-21 14:07:57   \n",
       "\n",
       "              end_date  is_active           product_name  product_quantity  \\\n",
       "0  2019-06-14 23:59:59          1        Delivery charge                 1   \n",
       "1  2019-06-12 23:59:59          1  Dishwash Liquid Pril                  2   \n",
       "2  2019-03-03 23:59:59          1   Nandini Shubham Milk                 2   \n",
       "3  2019-09-10 23:59:59          1   Nandini Shubham Milk                 1   \n",
       "4  2019-07-22 23:59:59          1           Nandini Curd                 1   \n",
       "\n",
       "   product_type product_unit  product_unit_cost  recently_changed_flag  ...  \\\n",
       "0          54.0            1                5.0                      1  ...   \n",
       "1          19.0       425 ml               99.0                      1  ...   \n",
       "2           1.0       500 ml               21.0                      1  ...   \n",
       "3           1.0       500 ml               22.0                      1  ...   \n",
       "4           4.0       500 gm               22.0                      1  ...   \n",
       "\n",
       "                         product_master subscription_type  \\\n",
       "0  4d7a9702-c1cc-42df-979f-48067ca03142        DkFOhwBsDA   \n",
       "1  0bdeb59b-cea0-44bd-97ef-edbc3a7ace82        DkFOhwBsDA   \n",
       "2  54a2d415-97ec-4f5b-b338-1eae07777644        DkFOhwBsDA   \n",
       "3  dbcbce69-f5bb-4889-a892-6a686eca1354        DkFOhwBsDA   \n",
       "4  8eaebce4-7f3d-4753-be94-7bef0b75509d        DkFOhwBsDA   \n",
       "\n",
       "                                   user offer_id pause_start_date  \\\n",
       "0  397cad1f-89f7-4e41-b6c1-b57f2a7bd6e5      NaN              NaN   \n",
       "1  0a7d1c3c-7aba-4649-838b-1e49b62b2a2d      NaN              NaN   \n",
       "2  a6c1541b-16c0-4460-85ab-6d68760fe764      NaN              NaN   \n",
       "3  8e67aa7e-1ba6-44f5-bea9-113a3bb0ce41      NaN              NaN   \n",
       "4  f056bc8d-c5a0-4345-a6a9-bf8455d089d9      NaN              NaN   \n",
       "\n",
       "  pause_end_date subscription_coupon_code metadata source fulfilled_by_vendor  \n",
       "0            NaN                      NaN      NaN    0.0                 NaN  \n",
       "1            NaN                      NaN      NaN    0.0                 NaN  \n",
       "2            NaN                      NaN      NaN    0.0                 NaN  \n",
       "3            NaN                      NaN      NaN    0.0                 1.0  \n",
       "4            NaN                      NaN      NaN    0.0                 1.0  \n",
       "\n",
       "[5 rows x 23 columns]"
      ]
     },
     "execution_count": 3,
     "metadata": {},
     "output_type": "execute_result"
    }
   ],
   "source": [
    "sub.head(5)"
   ]
  },
  {
   "cell_type": "markdown",
   "metadata": {},
   "source": [
    "### <font color=darkblue> Dataset Shape\n",
    "<font color=darkblue> The dataset has 300409 observations and 23 variables"
   ]
  },
  {
   "cell_type": "code",
   "execution_count": 4,
   "metadata": {},
   "outputs": [
    {
     "data": {
      "text/plain": [
       "(300409, 23)"
      ]
     },
     "execution_count": 4,
     "metadata": {},
     "output_type": "execute_result"
    }
   ],
   "source": [
    "sub.shape"
   ]
  },
  {
   "cell_type": "markdown",
   "metadata": {},
   "source": [
    "### <font color=darkblue> New Variable creation\n",
    "<font color=darkblue> A new variable 'Amount' is created which is the product of quantity and unit cost"
   ]
  },
  {
   "cell_type": "code",
   "execution_count": 5,
   "metadata": {},
   "outputs": [],
   "source": [
    "sub['Amount'] = sub['product_quantity'] * sub['product_unit_cost']"
   ]
  },
  {
   "cell_type": "markdown",
   "metadata": {},
   "source": [
    "### <font color=darkblue> Checking count of null values in each column\n",
    "<font color=darkblue>"
   ]
  },
  {
   "cell_type": "code",
   "execution_count": 6,
   "metadata": {},
   "outputs": [
    {
     "data": {
      "text/plain": [
       "pause_end_date              299588\n",
       "pause_start_date            299588\n",
       "subscription_coupon_code    298528\n",
       "offer_id                    296915\n",
       "metadata                    288656\n",
       "fulfilled_by_vendor         188500\n",
       "product_type                  2377\n",
       "source                         384\n",
       "Amount                           0\n",
       "product_unit                     0\n",
       "created_at                       0\n",
       "end_date                         0\n",
       "is_active                        0\n",
       "product_name                     0\n",
       "product_quantity                 0\n",
       "updated_at                       0\n",
       "product_unit_cost                0\n",
       "recently_changed_flag            0\n",
       "start_date                       0\n",
       "verify_status                    0\n",
       "product_master                   0\n",
       "subscription_type                0\n",
       "user                             0\n",
       "id                               0\n",
       "dtype: int64"
      ]
     },
     "execution_count": 6,
     "metadata": {},
     "output_type": "execute_result"
    }
   ],
   "source": [
    "sub.isnull().sum().sort_values(ascending=False)"
   ]
  },
  {
   "cell_type": "markdown",
   "metadata": {},
   "source": [
    "### <font color=darkblue> Checking Data type of each column\n",
    "<font color=darkblue>"
   ]
  },
  {
   "cell_type": "code",
   "execution_count": 7,
   "metadata": {},
   "outputs": [
    {
     "name": "stdout",
     "output_type": "stream",
     "text": [
      "<class 'pandas.core.frame.DataFrame'>\n",
      "RangeIndex: 300409 entries, 0 to 300408\n",
      "Data columns (total 24 columns):\n",
      " #   Column                    Non-Null Count   Dtype  \n",
      "---  ------                    --------------   -----  \n",
      " 0   id                        300409 non-null  object \n",
      " 1   created_at                300409 non-null  object \n",
      " 2   end_date                  300409 non-null  object \n",
      " 3   is_active                 300409 non-null  int64  \n",
      " 4   product_name              300409 non-null  object \n",
      " 5   product_quantity          300409 non-null  int64  \n",
      " 6   product_type              298032 non-null  float64\n",
      " 7   product_unit              300409 non-null  object \n",
      " 8   product_unit_cost         300409 non-null  float64\n",
      " 9   recently_changed_flag     300409 non-null  int64  \n",
      " 10  start_date                300409 non-null  object \n",
      " 11  updated_at                300409 non-null  object \n",
      " 12  verify_status             300409 non-null  int64  \n",
      " 13  product_master            300409 non-null  object \n",
      " 14  subscription_type         300409 non-null  object \n",
      " 15  user                      300409 non-null  object \n",
      " 16  offer_id                  3494 non-null    object \n",
      " 17  pause_start_date          821 non-null     object \n",
      " 18  pause_end_date            821 non-null     object \n",
      " 19  subscription_coupon_code  1881 non-null    object \n",
      " 20  metadata                  11753 non-null   object \n",
      " 21  source                    300025 non-null  float64\n",
      " 22  fulfilled_by_vendor       111909 non-null  float64\n",
      " 23  Amount                    300409 non-null  float64\n",
      "dtypes: float64(5), int64(4), object(15)\n",
      "memory usage: 55.0+ MB\n"
     ]
    }
   ],
   "source": [
    "sub.info()"
   ]
  },
  {
   "cell_type": "markdown",
   "metadata": {},
   "source": [
    "### <font color=darkblue> Data type correction\n",
    "<font color=darkblue> Correcting the data type based on categorical and continuous nature"
   ]
  },
  {
   "cell_type": "code",
   "execution_count": 8,
   "metadata": {},
   "outputs": [
    {
     "data": {
      "text/plain": [
       "24"
      ]
     },
     "execution_count": 8,
     "metadata": {},
     "output_type": "execute_result"
    }
   ],
   "source": [
    "sub['product_type'].nunique()"
   ]
  },
  {
   "cell_type": "code",
   "execution_count": 9,
   "metadata": {},
   "outputs": [
    {
     "data": {
      "text/plain": [
       "2"
      ]
     },
     "execution_count": 9,
     "metadata": {},
     "output_type": "execute_result"
    }
   ],
   "source": [
    "sub['verify_status'].nunique()"
   ]
  },
  {
   "cell_type": "code",
   "execution_count": 10,
   "metadata": {},
   "outputs": [
    {
     "data": {
      "text/plain": [
       "1"
      ]
     },
     "execution_count": 10,
     "metadata": {},
     "output_type": "execute_result"
    }
   ],
   "source": [
    "sub['source'].nunique()"
   ]
  },
  {
   "cell_type": "code",
   "execution_count": 11,
   "metadata": {},
   "outputs": [],
   "source": [
    "sub['is_active'] = sub['is_active'].astype('object')\n",
    "sub['product_type'] = sub['product_type'].astype('category')\n",
    "sub['verify_status'] = sub['product_type'].astype('category')\n",
    "sub['source'] = sub['source'].astype('object')\n",
    "sub['product_quantity'] = sub['product_quantity'].astype('int')\n",
    "sub['product_unit_cost'] = sub['product_unit_cost'].astype('int')\n",
    "sub['recently_changed_flag'] = sub['recently_changed_flag'].astype('category')\n",
    "sub['fulfilled_by_vendor'] = sub['fulfilled_by_vendor'].astype('category')"
   ]
  },
  {
   "cell_type": "markdown",
   "metadata": {},
   "source": [
    "### <font color=darkblue> Treatment of Primary Data\n",
    "<font color=darkblue> Remove variables having more than 50% null values"
   ]
  },
  {
   "cell_type": "code",
   "execution_count": 12,
   "metadata": {},
   "outputs": [],
   "source": [
    "sub.drop(['pause_end_date', 'pause_start_date','subscription_coupon_code','offer_id',\n",
    "          'metadata','fulfilled_by_vendor','recently_changed_flag'], axis = 1, inplace=True)"
   ]
  },
  {
   "cell_type": "markdown",
   "metadata": {},
   "source": [
    "### <font color=darkblue> Five Number Summary\n",
    "<font color=darkblue> Checking the Five Number summary of the Dataset"
   ]
  },
  {
   "cell_type": "code",
   "execution_count": 13,
   "metadata": {},
   "outputs": [
    {
     "data": {
      "text/html": [
       "<div>\n",
       "<style scoped>\n",
       "    .dataframe tbody tr th:only-of-type {\n",
       "        vertical-align: middle;\n",
       "    }\n",
       "\n",
       "    .dataframe tbody tr th {\n",
       "        vertical-align: top;\n",
       "    }\n",
       "\n",
       "    .dataframe thead th {\n",
       "        text-align: right;\n",
       "    }\n",
       "</style>\n",
       "<table border=\"1\" class=\"dataframe\">\n",
       "  <thead>\n",
       "    <tr style=\"text-align: right;\">\n",
       "      <th></th>\n",
       "      <th>product_quantity</th>\n",
       "      <th>product_unit_cost</th>\n",
       "      <th>Amount</th>\n",
       "    </tr>\n",
       "  </thead>\n",
       "  <tbody>\n",
       "    <tr>\n",
       "      <th>count</th>\n",
       "      <td>300409.000000</td>\n",
       "      <td>300409.000000</td>\n",
       "      <td>300409.000000</td>\n",
       "    </tr>\n",
       "    <tr>\n",
       "      <th>mean</th>\n",
       "      <td>1.368018</td>\n",
       "      <td>33.902862</td>\n",
       "      <td>43.616412</td>\n",
       "    </tr>\n",
       "    <tr>\n",
       "      <th>std</th>\n",
       "      <td>0.848119</td>\n",
       "      <td>46.707617</td>\n",
       "      <td>68.824894</td>\n",
       "    </tr>\n",
       "    <tr>\n",
       "      <th>min</th>\n",
       "      <td>-31.000000</td>\n",
       "      <td>-200.000000</td>\n",
       "      <td>-200.000000</td>\n",
       "    </tr>\n",
       "    <tr>\n",
       "      <th>25%</th>\n",
       "      <td>1.000000</td>\n",
       "      <td>19.000000</td>\n",
       "      <td>21.000000</td>\n",
       "    </tr>\n",
       "    <tr>\n",
       "      <th>50%</th>\n",
       "      <td>1.000000</td>\n",
       "      <td>22.000000</td>\n",
       "      <td>32.000000</td>\n",
       "    </tr>\n",
       "    <tr>\n",
       "      <th>75%</th>\n",
       "      <td>1.000000</td>\n",
       "      <td>36.000000</td>\n",
       "      <td>50.000000</td>\n",
       "    </tr>\n",
       "    <tr>\n",
       "      <th>max</th>\n",
       "      <td>10.000000</td>\n",
       "      <td>2700.000000</td>\n",
       "      <td>9000.000000</td>\n",
       "    </tr>\n",
       "  </tbody>\n",
       "</table>\n",
       "</div>"
      ],
      "text/plain": [
       "       product_quantity  product_unit_cost         Amount\n",
       "count     300409.000000      300409.000000  300409.000000\n",
       "mean           1.368018          33.902862      43.616412\n",
       "std            0.848119          46.707617      68.824894\n",
       "min          -31.000000        -200.000000    -200.000000\n",
       "25%            1.000000          19.000000      21.000000\n",
       "50%            1.000000          22.000000      32.000000\n",
       "75%            1.000000          36.000000      50.000000\n",
       "max           10.000000        2700.000000    9000.000000"
      ]
     },
     "execution_count": 13,
     "metadata": {},
     "output_type": "execute_result"
    }
   ],
   "source": [
    "sub.describe()"
   ]
  },
  {
   "cell_type": "markdown",
   "metadata": {},
   "source": [
    "### <font color=darkblue> Box Plot\n",
    "<font color=darkblue> Understanding the summary statistics using Box Plot"
   ]
  },
  {
   "cell_type": "code",
   "execution_count": 14,
   "metadata": {},
   "outputs": [
    {
     "data": {
      "text/plain": [
       "Text(0.7, 87.5, 'IQR')"
      ]
     },
     "execution_count": 14,
     "metadata": {},
     "output_type": "execute_result"
    },
    {
     "data": {
      "image/png": "[encoded data removed]",
      "text/plain": [
       "<Figure size 576x576 with 1 Axes>"
      ]
     },
     "metadata": {
      "needs_background": "light"
     },
     "output_type": "display_data"
    }
   ],
   "source": [
    "# Create boxplot for column=\"Amount\"\n",
    "sub.boxplot(column=\"Amount\",return_type='axes',figsize=(8,8))\n",
    "\n",
    "# create text(x=0.74, y=22.25, s=\"3rd Quartile\")like Median, 1st Quartile,Min,Max,IQR:\n",
    "plt.text(x=0.74, y=102.00, s=\"3rd Quartile\")\n",
    "plt.text(x=0.8, y=87.00, s=\"Median\")\n",
    "plt.text(x=0.75, y=83.00, s=\"1st Quartile\")\n",
    "plt.text(x=0.90, y=92.00, s=\"Min\")\n",
    "plt.text(x=0.9, y=80.00, s=\"Max\")\n",
    "plt.text(x=0.7, y=87.5, s=\"IQR\", rotation=90, size=25)"
   ]
  },
  {
   "cell_type": "markdown",
   "metadata": {},
   "source": [
    "### <font color=darkblue> Checking the measures of Dispersion\n",
    "<font color=darkblue> "
   ]
  },
  {
   "cell_type": "markdown",
   "metadata": {},
   "source": [
    "###  IQR"
   ]
  },
  {
   "cell_type": "code",
   "execution_count": 15,
   "metadata": {},
   "outputs": [
    {
     "data": {
      "text/plain": [
       "product_quantity      0.0\n",
       "product_unit_cost    17.0\n",
       "Amount               29.0\n",
       "dtype: float64"
      ]
     },
     "execution_count": 15,
     "metadata": {},
     "output_type": "execute_result"
    }
   ],
   "source": [
    "sub.quantile(0.75) - sub.quantile(0.25)"
   ]
  },
  {
   "cell_type": "markdown",
   "metadata": {},
   "source": [
    "###  Variance"
   ]
  },
  {
   "cell_type": "code",
   "execution_count": 16,
   "metadata": {},
   "outputs": [
    {
     "name": "stdout",
     "output_type": "stream",
     "text": [
      "is_active               0.000093\n",
      "product_quantity        0.719306\n",
      "product_type          291.422577\n",
      "product_unit_cost    2181.601510\n",
      "verify_status         291.422577\n",
      "source                  0.000000\n",
      "Amount               4736.866047\n",
      "dtype: float64\n"
     ]
    }
   ],
   "source": [
    "print(sub.var())"
   ]
  },
  {
   "cell_type": "markdown",
   "metadata": {},
   "source": [
    "###  Std. Dev"
   ]
  },
  {
   "cell_type": "code",
   "execution_count": 17,
   "metadata": {},
   "outputs": [
    {
     "name": "stdout",
     "output_type": "stream",
     "text": [
      "is_active             0.009654\n",
      "product_quantity      0.848119\n",
      "product_type         17.071104\n",
      "product_unit_cost    46.707617\n",
      "verify_status        17.071104\n",
      "source                0.000000\n",
      "Amount               68.824894\n",
      "dtype: float64\n"
     ]
    }
   ],
   "source": [
    "print(sub.std())"
   ]
  },
  {
   "cell_type": "markdown",
   "metadata": {},
   "source": [
    "###  Co-Variance"
   ]
  },
  {
   "cell_type": "code",
   "execution_count": 18,
   "metadata": {},
   "outputs": [
    {
     "data": {
      "text/html": [
       "<div>\n",
       "<style scoped>\n",
       "    .dataframe tbody tr th:only-of-type {\n",
       "        vertical-align: middle;\n",
       "    }\n",
       "\n",
       "    .dataframe tbody tr th {\n",
       "        vertical-align: top;\n",
       "    }\n",
       "\n",
       "    .dataframe thead th {\n",
       "        text-align: right;\n",
       "    }\n",
       "</style>\n",
       "<table border=\"1\" class=\"dataframe\">\n",
       "  <thead>\n",
       "    <tr style=\"text-align: right;\">\n",
       "      <th></th>\n",
       "      <th>product_quantity</th>\n",
       "      <th>product_unit_cost</th>\n",
       "      <th>Amount</th>\n",
       "    </tr>\n",
       "  </thead>\n",
       "  <tbody>\n",
       "    <tr>\n",
       "      <th>product_quantity</th>\n",
       "      <td>0.719306</td>\n",
       "      <td>-2.807621</td>\n",
       "      <td>15.332982</td>\n",
       "    </tr>\n",
       "    <tr>\n",
       "      <th>product_unit_cost</th>\n",
       "      <td>-2.807621</td>\n",
       "      <td>2181.601510</td>\n",
       "      <td>2560.828774</td>\n",
       "    </tr>\n",
       "    <tr>\n",
       "      <th>Amount</th>\n",
       "      <td>15.332982</td>\n",
       "      <td>2560.828774</td>\n",
       "      <td>4736.866047</td>\n",
       "    </tr>\n",
       "  </tbody>\n",
       "</table>\n",
       "</div>"
      ],
      "text/plain": [
       "                   product_quantity  product_unit_cost       Amount\n",
       "product_quantity           0.719306          -2.807621    15.332982\n",
       "product_unit_cost         -2.807621        2181.601510  2560.828774\n",
       "Amount                    15.332982        2560.828774  4736.866047"
      ]
     },
     "execution_count": 18,
     "metadata": {},
     "output_type": "execute_result"
    }
   ],
   "source": [
    "sub.cov()"
   ]
  },
  {
   "cell_type": "markdown",
   "metadata": {},
   "source": [
    "### Correlation"
   ]
  },
  {
   "cell_type": "code",
   "execution_count": 19,
   "metadata": {},
   "outputs": [
    {
     "data": {
      "text/html": [
       "<div>\n",
       "<style scoped>\n",
       "    .dataframe tbody tr th:only-of-type {\n",
       "        vertical-align: middle;\n",
       "    }\n",
       "\n",
       "    .dataframe tbody tr th {\n",
       "        vertical-align: top;\n",
       "    }\n",
       "\n",
       "    .dataframe thead th {\n",
       "        text-align: right;\n",
       "    }\n",
       "</style>\n",
       "<table border=\"1\" class=\"dataframe\">\n",
       "  <thead>\n",
       "    <tr style=\"text-align: right;\">\n",
       "      <th></th>\n",
       "      <th>product_quantity</th>\n",
       "      <th>product_unit_cost</th>\n",
       "      <th>Amount</th>\n",
       "    </tr>\n",
       "  </thead>\n",
       "  <tbody>\n",
       "    <tr>\n",
       "      <th>product_quantity</th>\n",
       "      <td>1.000000</td>\n",
       "      <td>-0.070875</td>\n",
       "      <td>0.262678</td>\n",
       "    </tr>\n",
       "    <tr>\n",
       "      <th>product_unit_cost</th>\n",
       "      <td>-0.070875</td>\n",
       "      <td>1.000000</td>\n",
       "      <td>0.796613</td>\n",
       "    </tr>\n",
       "    <tr>\n",
       "      <th>Amount</th>\n",
       "      <td>0.262678</td>\n",
       "      <td>0.796613</td>\n",
       "      <td>1.000000</td>\n",
       "    </tr>\n",
       "  </tbody>\n",
       "</table>\n",
       "</div>"
      ],
      "text/plain": [
       "                   product_quantity  product_unit_cost    Amount\n",
       "product_quantity           1.000000          -0.070875  0.262678\n",
       "product_unit_cost         -0.070875           1.000000  0.796613\n",
       "Amount                     0.262678           0.796613  1.000000"
      ]
     },
     "execution_count": 19,
     "metadata": {},
     "output_type": "execute_result"
    }
   ],
   "source": [
    "sub.corr()"
   ]
  },
  {
   "cell_type": "markdown",
   "metadata": {},
   "source": [
    "### Heatmap For checking the correlation"
   ]
  },
  {
   "cell_type": "code",
   "execution_count": 20,
   "metadata": {},
   "outputs": [
    {
     "data": {
      "image/png": "[encoded data removed]",
      "text/plain": [
       "<Figure size 720x720 with 2 Axes>"
      ]
     },
     "metadata": {
      "needs_background": "light"
     },
     "output_type": "display_data"
    }
   ],
   "source": [
    "fig,ax = plt.subplots(figsize=(10, 10))   \n",
    "sns.heatmap(sub.corr(), ax=ax, annot=True, linewidths=0.05, fmt= '.2f',cmap=\"magma\") # the color intensity is based on \n",
    "plt.show()"
   ]
  },
  {
   "cell_type": "markdown",
   "metadata": {},
   "source": [
    "### <font color=darkblue> Plotting the summary Mean, Median, Mode using Histogram\n",
    "<font color=darkblue> "
   ]
  },
  {
   "cell_type": "code",
   "execution_count": 21,
   "metadata": {},
   "outputs": [
    {
     "name": "stdout",
     "output_type": "stream",
     "text": [
      "Mean:  43.61641245768265 \n",
      "Median:  32.0 \n",
      "Mode:  5.0\n"
     ]
    },
    {
     "data": {
      "image/png": "[encoded data removed]",
      "text/plain": [
       "<Figure size 720x360 with 1 Axes>"
      ]
     },
     "metadata": {
      "needs_background": "light"
     },
     "output_type": "display_data"
    }
   ],
   "source": [
    "mean=sub['Amount'].mean()\n",
    "median=sub['Amount'].median()\n",
    "mode=sub['Amount'].mode()\n",
    "\n",
    "print('Mean: ',mean,'\\nMedian: ',median,'\\nMode: ',mode[0])\n",
    "\n",
    "plt.figure(figsize=(10,5)) # set the figure size\n",
    "plt.hist(sub['Amount'],bins=100,color='lightblue')\n",
    "\n",
    "plt.axvline(mean,color='green',label='Mean')     \n",
    "plt.axvline(median,color='blue',label='Median')\n",
    "plt.axvline(mode[0],color='red',label='Mode1')\n",
    "#plt.axvline(mode[1],color='red',label='Mode2')\n",
    "\n",
    "plt.xlabel('Amount')   # label the x-axis\n",
    "plt.ylabel('Frequency')   # label the y-axis\n",
    "plt.legend()              # Plot the legend\n",
    "plt.show()"
   ]
  },
  {
   "cell_type": "markdown",
   "metadata": {},
   "source": [
    "### <font color=darkblue> Check the Skewness and Kurtosis\n",
    "<font color=darkblue> "
   ]
  },
  {
   "cell_type": "code",
   "execution_count": 22,
   "metadata": {},
   "outputs": [],
   "source": [
    "sub_test = sub.drop(['is_active', 'product_type','verify_status','source'], axis = 1)"
   ]
  },
  {
   "cell_type": "code",
   "execution_count": 23,
   "metadata": {},
   "outputs": [
    {
     "data": {
      "text/plain": [
       "product_quantity      2.629071\n",
       "product_unit_cost    12.057373\n",
       "Amount               40.848338\n",
       "dtype: float64"
      ]
     },
     "execution_count": 23,
     "metadata": {},
     "output_type": "execute_result"
    }
   ],
   "source": [
    "sub_test.skew()"
   ]
  },
  {
   "cell_type": "code",
   "execution_count": 24,
   "metadata": {},
   "outputs": [
    {
     "data": {
      "text/plain": [
       "product_quantity       36.361074\n",
       "product_unit_cost     322.948924\n",
       "Amount               3794.538109\n",
       "dtype: float64"
      ]
     },
     "execution_count": 24,
     "metadata": {},
     "output_type": "execute_result"
    }
   ],
   "source": [
    "sub_test.kurt()"
   ]
  },
  {
   "cell_type": "markdown",
   "metadata": {},
   "source": [
    "### <font color=darkblue> Histogram for checking the Skewness\n",
    "\n",
    "\n",
    "<font color=darkblue> "
   ]
  },
  {
   "cell_type": "code",
   "execution_count": 25,
   "metadata": {},
   "outputs": [
    {
     "data": {
      "image/png": "[encoded data removed]",
      "text/plain": [
       "<Figure size 432x288 with 1 Axes>"
      ]
     },
     "metadata": {
      "needs_background": "light"
     },
     "output_type": "display_data"
    }
   ],
   "source": [
    "import scipy.stats as stats\n",
    "\n",
    "#convert pandas DataFrame object to numpy array and sort\n",
    "h = np.asarray(sub['Amount'])\n",
    "h = sorted(h)\n",
    " \n",
    "#use the scipy stats module to fit a normal distirbution with same mean and standard deviation\n",
    "fit = stats.norm.pdf(h, np.mean(h), np.std(h)) \n",
    " \n",
    "#plot both series on the histogram\n",
    "plt.plot(h,fit,'-',linewidth = 2,label=\"Normal distribution with same mean and var\")\n",
    "plt.hist(h,normed=True,bins = 100,label=\"Actual distribution\")      \n",
    "plt.legend()\n",
    "plt.show()"
   ]
  },
  {
   "cell_type": "markdown",
   "metadata": {},
   "source": [
    "### <font color=darkblue> Inferences\n",
    "<font color=darkblue> \n",
    "    Skewness range is -1 to +1.                                                     \n",
    "    Skewness is 40.84 which indicates the data is highly skewed.                                                   \n",
    "    Kurtosis of 3794 indicates it is highly peaked.                                                       \n",
    "    The data has lot of outliers.                                                                           \n",
    "    Two method of Outlier detection and elimination are Z-Score and IQR    "
   ]
  },
  {
   "cell_type": "markdown",
   "metadata": {},
   "source": [
    "### <font color=darkblue> Method - 1 (Z-Score)\n",
    "<font color=darkblue> \n",
    "    Data scaled to Z-Scores                                                                                   \n",
    "    Observations with a Z Score of > 3 are considered as Outliers"
   ]
  },
  {
   "cell_type": "code",
   "execution_count": 26,
   "metadata": {},
   "outputs": [
    {
     "data": {
      "text/plain": [
       "array([-0.56108298,  2.24313959, -0.02348591, ...,  0.32522571,\n",
       "       -0.12519346, -0.35766787])"
      ]
     },
     "execution_count": 26,
     "metadata": {},
     "output_type": "execute_result"
    }
   ],
   "source": [
    "scipy.stats.zscore(sub['Amount'])"
   ]
  },
  {
   "cell_type": "code",
   "execution_count": 27,
   "metadata": {},
   "outputs": [
    {
     "data": {
      "text/html": [
       "<div>\n",
       "<style scoped>\n",
       "    .dataframe tbody tr th:only-of-type {\n",
       "        vertical-align: middle;\n",
       "    }\n",
       "\n",
       "    .dataframe tbody tr th {\n",
       "        vertical-align: top;\n",
       "    }\n",
       "\n",
       "    .dataframe thead th {\n",
       "        text-align: right;\n",
       "    }\n",
       "</style>\n",
       "<table border=\"1\" class=\"dataframe\">\n",
       "  <thead>\n",
       "    <tr style=\"text-align: right;\">\n",
       "      <th></th>\n",
       "      <th>id</th>\n",
       "      <th>created_at</th>\n",
       "      <th>end_date</th>\n",
       "      <th>is_active</th>\n",
       "      <th>product_name</th>\n",
       "      <th>product_quantity</th>\n",
       "      <th>product_type</th>\n",
       "      <th>product_unit</th>\n",
       "      <th>product_unit_cost</th>\n",
       "      <th>start_date</th>\n",
       "      <th>updated_at</th>\n",
       "      <th>verify_status</th>\n",
       "      <th>product_master</th>\n",
       "      <th>subscription_type</th>\n",
       "      <th>user</th>\n",
       "      <th>source</th>\n",
       "      <th>Amount</th>\n",
       "    </tr>\n",
       "  </thead>\n",
       "  <tbody>\n",
       "    <tr>\n",
       "      <th>92</th>\n",
       "      <td>00016997-a388-4dd4-b111-9fd2606ef7c4</td>\n",
       "      <td>2019-06-21 16:47:29</td>\n",
       "      <td>2019-06-22 23:59:59</td>\n",
       "      <td>1</td>\n",
       "      <td>Towness Kaju Katli (Cashew)</td>\n",
       "      <td>1</td>\n",
       "      <td>21.0</td>\n",
       "      <td>200 gm</td>\n",
       "      <td>252</td>\n",
       "      <td>2019-06-22 00:00:00</td>\n",
       "      <td>2019-06-21 16:47:29</td>\n",
       "      <td>21.0</td>\n",
       "      <td>293315da-377e-46e9-a6da-18aab4dbc820</td>\n",
       "      <td>DkFOhwBsDA</td>\n",
       "      <td>e7d71db2-0fde-4abe-a15a-93a46f16a632</td>\n",
       "      <td>0</td>\n",
       "      <td>252.0</td>\n",
       "    </tr>\n",
       "    <tr>\n",
       "      <th>94</th>\n",
       "      <td>00017142-8a00-4b08-99de-63f7fdaefe79</td>\n",
       "      <td>2019-09-02 16:59:23</td>\n",
       "      <td>2019-09-03 23:59:59</td>\n",
       "      <td>1</td>\n",
       "      <td>Whisper Ultra Clean - XL Wings</td>\n",
       "      <td>1</td>\n",
       "      <td>99.0</td>\n",
       "      <td>30 Nos</td>\n",
       "      <td>260</td>\n",
       "      <td>2019-09-03 00:00:00</td>\n",
       "      <td>2019-09-02 16:59:23</td>\n",
       "      <td>99.0</td>\n",
       "      <td>74e58b4b-144d-41fe-a6dc-ce6374241fca</td>\n",
       "      <td>DkFOhwBsDA</td>\n",
       "      <td>7a47090f-f35e-4baa-aeaa-f0169cdb70cf</td>\n",
       "      <td>0</td>\n",
       "      <td>260.0</td>\n",
       "    </tr>\n",
       "    <tr>\n",
       "      <th>123</th>\n",
       "      <td>0001ee3f-2d43-4c9d-9898-fbc49af6ad4e</td>\n",
       "      <td>2019-08-04 05:44:16</td>\n",
       "      <td>2019-08-05 23:59:59</td>\n",
       "      <td>1</td>\n",
       "      <td>Multi Surface Cleaner Formula 409</td>\n",
       "      <td>1</td>\n",
       "      <td>19.0</td>\n",
       "      <td>650 Ml</td>\n",
       "      <td>350</td>\n",
       "      <td>2019-08-05 00:00:00</td>\n",
       "      <td>2019-08-04 05:44:16</td>\n",
       "      <td>19.0</td>\n",
       "      <td>72a33392-9594-4ff1-a17f-776a27d684b7</td>\n",
       "      <td>DkFOhwBsDA</td>\n",
       "      <td>53345387-ee29-4ed4-be0d-b47bfe01719c</td>\n",
       "      <td>0</td>\n",
       "      <td>350.0</td>\n",
       "    </tr>\n",
       "    <tr>\n",
       "      <th>247</th>\n",
       "      <td>0003cf1e-9b34-49e8-8ee9-f9fd5e515afa</td>\n",
       "      <td>2019-04-12 17:06:44</td>\n",
       "      <td>2019-04-13 23:59:59</td>\n",
       "      <td>1</td>\n",
       "      <td>Towness Rice Sona Raw 24 Carat</td>\n",
       "      <td>1</td>\n",
       "      <td>21.0</td>\n",
       "      <td>5 Kg</td>\n",
       "      <td>293</td>\n",
       "      <td>2019-04-13 00:00:00</td>\n",
       "      <td>2019-04-12 17:29:23</td>\n",
       "      <td>21.0</td>\n",
       "      <td>c3032089-d3b5-4f00-92dc-3425fc4fab47</td>\n",
       "      <td>DkFOhwBsDA</td>\n",
       "      <td>3e86f626-51a4-4470-9941-f91c308eacab</td>\n",
       "      <td>0</td>\n",
       "      <td>293.0</td>\n",
       "    </tr>\n",
       "    <tr>\n",
       "      <th>283</th>\n",
       "      <td>000458b5-5643-42a7-9383-f096ecb6c922</td>\n",
       "      <td>2019-11-15 11:42:59</td>\n",
       "      <td>2019-11-16 23:59:59</td>\n",
       "      <td>1</td>\n",
       "      <td>Milklane Milk (Pack of 6)</td>\n",
       "      <td>5</td>\n",
       "      <td>1.0</td>\n",
       "      <td>(Pack of 6) 1 No</td>\n",
       "      <td>179</td>\n",
       "      <td>2019-11-16 00:00:00</td>\n",
       "      <td>2019-11-15 11:42:59</td>\n",
       "      <td>1.0</td>\n",
       "      <td>76bf0649-9219-4a87-a215-9781aac67efe</td>\n",
       "      <td>DkFOhwBsDA</td>\n",
       "      <td>db854d05-6077-4b07-837a-fe83011954c0</td>\n",
       "      <td>0</td>\n",
       "      <td>895.0</td>\n",
       "    </tr>\n",
       "    <tr>\n",
       "      <th>...</th>\n",
       "      <td>...</td>\n",
       "      <td>...</td>\n",
       "      <td>...</td>\n",
       "      <td>...</td>\n",
       "      <td>...</td>\n",
       "      <td>...</td>\n",
       "      <td>...</td>\n",
       "      <td>...</td>\n",
       "      <td>...</td>\n",
       "      <td>...</td>\n",
       "      <td>...</td>\n",
       "      <td>...</td>\n",
       "      <td>...</td>\n",
       "      <td>...</td>\n",
       "      <td>...</td>\n",
       "      <td>...</td>\n",
       "      <td>...</td>\n",
       "    </tr>\n",
       "    <tr>\n",
       "      <th>299756</th>\n",
       "      <td>11346856-4858-4809-80b1-a5b26196a075</td>\n",
       "      <td>2019-10-07 15:06:39</td>\n",
       "      <td>2019-10-08 23:59:59</td>\n",
       "      <td>1</td>\n",
       "      <td>Freedom Refined Sunflower Oil</td>\n",
       "      <td>5</td>\n",
       "      <td>21.0</td>\n",
       "      <td>1 Litre</td>\n",
       "      <td>90</td>\n",
       "      <td>2019-10-08 00:00:00</td>\n",
       "      <td>2019-10-07 15:30:21</td>\n",
       "      <td>21.0</td>\n",
       "      <td>75c4dad0-f3ba-4605-b1cd-3a9f0b995a25</td>\n",
       "      <td>DkFOhwBsDA</td>\n",
       "      <td>005c8201-f337-4bea-ac84-f23dd5456e7f</td>\n",
       "      <td>0</td>\n",
       "      <td>450.0</td>\n",
       "    </tr>\n",
       "    <tr>\n",
       "      <th>300060</th>\n",
       "      <td>1138c8f1-6f45-46fe-bb2c-044956d6ff0c</td>\n",
       "      <td>2019-01-29 12:28:14</td>\n",
       "      <td>2019-01-30 23:59:59</td>\n",
       "      <td>1</td>\n",
       "      <td>Surf Excel Washing Powder (Front Load)</td>\n",
       "      <td>1</td>\n",
       "      <td>19.0</td>\n",
       "      <td>2 Kg</td>\n",
       "      <td>480</td>\n",
       "      <td>2019-01-30 00:00:00</td>\n",
       "      <td>2019-01-29 12:28:14</td>\n",
       "      <td>19.0</td>\n",
       "      <td>a828302a-7e14-4d05-9d02-128e98ee45f8</td>\n",
       "      <td>DkFOhwBsDA</td>\n",
       "      <td>b6620183-9734-42fc-a97d-b5cc52330203</td>\n",
       "      <td>0</td>\n",
       "      <td>480.0</td>\n",
       "    </tr>\n",
       "    <tr>\n",
       "      <th>300130</th>\n",
       "      <td>1139f319-c403-431c-a051-01fb561a16a4</td>\n",
       "      <td>2019-10-26 10:37:38</td>\n",
       "      <td>2019-11-17 18:29:59</td>\n",
       "      <td>1</td>\n",
       "      <td>Narayan Malai Paneer</td>\n",
       "      <td>1</td>\n",
       "      <td>1.0</td>\n",
       "      <td>1 Kg</td>\n",
       "      <td>320</td>\n",
       "      <td>2019-10-27 00:00:00</td>\n",
       "      <td>2019-11-17 00:18:19</td>\n",
       "      <td>1.0</td>\n",
       "      <td>90eb288d-993e-4cab-9e92-cbadf25f20ff</td>\n",
       "      <td>oFTxGvfV0d</td>\n",
       "      <td>381e31e3-647a-4af5-9d1b-36321733d808</td>\n",
       "      <td>0</td>\n",
       "      <td>320.0</td>\n",
       "    </tr>\n",
       "    <tr>\n",
       "      <th>300191</th>\n",
       "      <td>113ae10b-35a6-4b7e-8577-0adad76d0718</td>\n",
       "      <td>2019-02-02 15:21:29</td>\n",
       "      <td>2019-02-03 23:59:59</td>\n",
       "      <td>1</td>\n",
       "      <td>Erden Fresh A2 Cow ghee</td>\n",
       "      <td>1</td>\n",
       "      <td>21.0</td>\n",
       "      <td>500 gm</td>\n",
       "      <td>750</td>\n",
       "      <td>2019-02-03 00:00:00</td>\n",
       "      <td>2019-02-02 15:21:29</td>\n",
       "      <td>21.0</td>\n",
       "      <td>bfa67ac7-a062-4ad9-8fee-7fdaf51f3e1d</td>\n",
       "      <td>DkFOhwBsDA</td>\n",
       "      <td>1ed5528f-a6fa-4955-9d56-add68a27053e</td>\n",
       "      <td>0</td>\n",
       "      <td>750.0</td>\n",
       "    </tr>\n",
       "    <tr>\n",
       "      <th>300235</th>\n",
       "      <td>113b8c01-2c74-4ebf-bc09-c95411361995</td>\n",
       "      <td>2019-11-07 15:20:05</td>\n",
       "      <td>2035-01-01 00:00:00</td>\n",
       "      <td>1</td>\n",
       "      <td>Amul Tea special</td>\n",
       "      <td>8</td>\n",
       "      <td>1.0</td>\n",
       "      <td>1 Litre</td>\n",
       "      <td>52</td>\n",
       "      <td>2019-11-08 00:00:00</td>\n",
       "      <td>2019-11-07 15:20:05</td>\n",
       "      <td>1.0</td>\n",
       "      <td>d03d7ef6-4055-4be5-a31f-bb98ddfe7b55</td>\n",
       "      <td>oFTxGvfV0d</td>\n",
       "      <td>e2a48b66-b2a4-4ee0-97f2-6746fcceb8a0</td>\n",
       "      <td>0</td>\n",
       "      <td>416.0</td>\n",
       "    </tr>\n",
       "  </tbody>\n",
       "</table>\n",
       "<p>2622 rows × 17 columns</p>\n",
       "</div>"
      ],
      "text/plain": [
       "                                          id           created_at  \\\n",
       "92      00016997-a388-4dd4-b111-9fd2606ef7c4  2019-06-21 16:47:29   \n",
       "94      00017142-8a00-4b08-99de-63f7fdaefe79  2019-09-02 16:59:23   \n",
       "123     0001ee3f-2d43-4c9d-9898-fbc49af6ad4e  2019-08-04 05:44:16   \n",
       "247     0003cf1e-9b34-49e8-8ee9-f9fd5e515afa  2019-04-12 17:06:44   \n",
       "283     000458b5-5643-42a7-9383-f096ecb6c922  2019-11-15 11:42:59   \n",
       "...                                      ...                  ...   \n",
       "299756  11346856-4858-4809-80b1-a5b26196a075  2019-10-07 15:06:39   \n",
       "300060  1138c8f1-6f45-46fe-bb2c-044956d6ff0c  2019-01-29 12:28:14   \n",
       "300130  1139f319-c403-431c-a051-01fb561a16a4  2019-10-26 10:37:38   \n",
       "300191  113ae10b-35a6-4b7e-8577-0adad76d0718  2019-02-02 15:21:29   \n",
       "300235  113b8c01-2c74-4ebf-bc09-c95411361995  2019-11-07 15:20:05   \n",
       "\n",
       "                   end_date is_active                            product_name  \\\n",
       "92      2019-06-22 23:59:59         1             Towness Kaju Katli (Cashew)   \n",
       "94      2019-09-03 23:59:59         1         Whisper Ultra Clean - XL Wings    \n",
       "123     2019-08-05 23:59:59         1       Multi Surface Cleaner Formula 409   \n",
       "247     2019-04-13 23:59:59         1          Towness Rice Sona Raw 24 Carat   \n",
       "283     2019-11-16 23:59:59         1               Milklane Milk (Pack of 6)   \n",
       "...                     ...       ...                                     ...   \n",
       "299756  2019-10-08 23:59:59         1           Freedom Refined Sunflower Oil   \n",
       "300060  2019-01-30 23:59:59         1  Surf Excel Washing Powder (Front Load)   \n",
       "300130  2019-11-17 18:29:59         1                    Narayan Malai Paneer   \n",
       "300191  2019-02-03 23:59:59         1                 Erden Fresh A2 Cow ghee   \n",
       "300235  2035-01-01 00:00:00         1                        Amul Tea special   \n",
       "\n",
       "        product_quantity product_type      product_unit  product_unit_cost  \\\n",
       "92                     1         21.0            200 gm                252   \n",
       "94                     1         99.0            30 Nos                260   \n",
       "123                    1         19.0            650 Ml                350   \n",
       "247                    1         21.0              5 Kg                293   \n",
       "283                    5          1.0  (Pack of 6) 1 No                179   \n",
       "...                  ...          ...               ...                ...   \n",
       "299756                 5         21.0           1 Litre                 90   \n",
       "300060                 1         19.0              2 Kg                480   \n",
       "300130                 1          1.0              1 Kg                320   \n",
       "300191                 1         21.0            500 gm                750   \n",
       "300235                 8          1.0           1 Litre                 52   \n",
       "\n",
       "                 start_date           updated_at verify_status  \\\n",
       "92      2019-06-22 00:00:00  2019-06-21 16:47:29          21.0   \n",
       "94      2019-09-03 00:00:00  2019-09-02 16:59:23          99.0   \n",
       "123     2019-08-05 00:00:00  2019-08-04 05:44:16          19.0   \n",
       "247     2019-04-13 00:00:00  2019-04-12 17:29:23          21.0   \n",
       "283     2019-11-16 00:00:00  2019-11-15 11:42:59           1.0   \n",
       "...                     ...                  ...           ...   \n",
       "299756  2019-10-08 00:00:00  2019-10-07 15:30:21          21.0   \n",
       "300060  2019-01-30 00:00:00  2019-01-29 12:28:14          19.0   \n",
       "300130  2019-10-27 00:00:00  2019-11-17 00:18:19           1.0   \n",
       "300191  2019-02-03 00:00:00  2019-02-02 15:21:29          21.0   \n",
       "300235  2019-11-08 00:00:00  2019-11-07 15:20:05           1.0   \n",
       "\n",
       "                              product_master subscription_type  \\\n",
       "92      293315da-377e-46e9-a6da-18aab4dbc820        DkFOhwBsDA   \n",
       "94      74e58b4b-144d-41fe-a6dc-ce6374241fca        DkFOhwBsDA   \n",
       "123     72a33392-9594-4ff1-a17f-776a27d684b7        DkFOhwBsDA   \n",
       "247     c3032089-d3b5-4f00-92dc-3425fc4fab47        DkFOhwBsDA   \n",
       "283     76bf0649-9219-4a87-a215-9781aac67efe        DkFOhwBsDA   \n",
       "...                                      ...               ...   \n",
       "299756  75c4dad0-f3ba-4605-b1cd-3a9f0b995a25        DkFOhwBsDA   \n",
       "300060  a828302a-7e14-4d05-9d02-128e98ee45f8        DkFOhwBsDA   \n",
       "300130  90eb288d-993e-4cab-9e92-cbadf25f20ff        oFTxGvfV0d   \n",
       "300191  bfa67ac7-a062-4ad9-8fee-7fdaf51f3e1d        DkFOhwBsDA   \n",
       "300235  d03d7ef6-4055-4be5-a31f-bb98ddfe7b55        oFTxGvfV0d   \n",
       "\n",
       "                                        user source  Amount  \n",
       "92      e7d71db2-0fde-4abe-a15a-93a46f16a632      0   252.0  \n",
       "94      7a47090f-f35e-4baa-aeaa-f0169cdb70cf      0   260.0  \n",
       "123     53345387-ee29-4ed4-be0d-b47bfe01719c      0   350.0  \n",
       "247     3e86f626-51a4-4470-9941-f91c308eacab      0   293.0  \n",
       "283     db854d05-6077-4b07-837a-fe83011954c0      0   895.0  \n",
       "...                                      ...    ...     ...  \n",
       "299756  005c8201-f337-4bea-ac84-f23dd5456e7f      0   450.0  \n",
       "300060  b6620183-9734-42fc-a97d-b5cc52330203      0   480.0  \n",
       "300130  381e31e3-647a-4af5-9d1b-36321733d808      0   320.0  \n",
       "300191  1ed5528f-a6fa-4955-9d56-add68a27053e      0   750.0  \n",
       "300235  e2a48b66-b2a4-4ee0-97f2-6746fcceb8a0      0   416.0  \n",
       "\n",
       "[2622 rows x 17 columns]"
      ]
     },
     "execution_count": 27,
     "metadata": {},
     "output_type": "execute_result"
    }
   ],
   "source": [
    "amt = np.abs(scipy.stats.zscore(sub['Amount']))\n",
    "sub.iloc[np.where(amt>3)]"
   ]
  },
  {
   "cell_type": "markdown",
   "metadata": {},
   "source": [
    "### <font color=darkblue> \n",
    "<font color=darkblue> \n",
    "    There are 2622 observations with a Z-Score of > 3.                                                                   \n",
    "    The data after removing outliers are stored in the Dataframe Sub1"
   ]
  },
  {
   "cell_type": "code",
   "execution_count": 28,
   "metadata": {},
   "outputs": [],
   "source": [
    "sub1 = sub.iloc[np.where(amt<3)]"
   ]
  },
  {
   "cell_type": "markdown",
   "metadata": {},
   "source": [
    "### <font color=darkblue> Five Number Summary\n",
    "<font color=darkblue> Checking the Five Number summary of the Dataset after Ouliter elimination based on Z-Score"
   ]
  },
  {
   "cell_type": "code",
   "execution_count": 29,
   "metadata": {},
   "outputs": [
    {
     "data": {
      "text/html": [
       "<div>\n",
       "<style scoped>\n",
       "    .dataframe tbody tr th:only-of-type {\n",
       "        vertical-align: middle;\n",
       "    }\n",
       "\n",
       "    .dataframe tbody tr th {\n",
       "        vertical-align: top;\n",
       "    }\n",
       "\n",
       "    .dataframe thead th {\n",
       "        text-align: right;\n",
       "    }\n",
       "</style>\n",
       "<table border=\"1\" class=\"dataframe\">\n",
       "  <thead>\n",
       "    <tr style=\"text-align: right;\">\n",
       "      <th></th>\n",
       "      <th>product_quantity</th>\n",
       "      <th>product_unit_cost</th>\n",
       "      <th>Amount</th>\n",
       "    </tr>\n",
       "  </thead>\n",
       "  <tbody>\n",
       "    <tr>\n",
       "      <th>count</th>\n",
       "      <td>297787.000000</td>\n",
       "      <td>297787.000000</td>\n",
       "      <td>297787.000000</td>\n",
       "    </tr>\n",
       "    <tr>\n",
       "      <th>mean</th>\n",
       "      <td>1.363508</td>\n",
       "      <td>31.289452</td>\n",
       "      <td>40.091337</td>\n",
       "    </tr>\n",
       "    <tr>\n",
       "      <th>std</th>\n",
       "      <td>0.834153</td>\n",
       "      <td>29.225003</td>\n",
       "      <td>35.051457</td>\n",
       "    </tr>\n",
       "    <tr>\n",
       "      <th>min</th>\n",
       "      <td>-31.000000</td>\n",
       "      <td>-150.000000</td>\n",
       "      <td>-150.000000</td>\n",
       "    </tr>\n",
       "    <tr>\n",
       "      <th>25%</th>\n",
       "      <td>1.000000</td>\n",
       "      <td>19.000000</td>\n",
       "      <td>21.000000</td>\n",
       "    </tr>\n",
       "    <tr>\n",
       "      <th>50%</th>\n",
       "      <td>1.000000</td>\n",
       "      <td>22.000000</td>\n",
       "      <td>31.000000</td>\n",
       "    </tr>\n",
       "    <tr>\n",
       "      <th>75%</th>\n",
       "      <td>1.000000</td>\n",
       "      <td>36.000000</td>\n",
       "      <td>48.000000</td>\n",
       "    </tr>\n",
       "    <tr>\n",
       "      <th>max</th>\n",
       "      <td>10.000000</td>\n",
       "      <td>300.000000</td>\n",
       "      <td>250.000000</td>\n",
       "    </tr>\n",
       "  </tbody>\n",
       "</table>\n",
       "</div>"
      ],
      "text/plain": [
       "       product_quantity  product_unit_cost         Amount\n",
       "count     297787.000000      297787.000000  297787.000000\n",
       "mean           1.363508          31.289452      40.091337\n",
       "std            0.834153          29.225003      35.051457\n",
       "min          -31.000000        -150.000000    -150.000000\n",
       "25%            1.000000          19.000000      21.000000\n",
       "50%            1.000000          22.000000      31.000000\n",
       "75%            1.000000          36.000000      48.000000\n",
       "max           10.000000         300.000000     250.000000"
      ]
     },
     "execution_count": 29,
     "metadata": {},
     "output_type": "execute_result"
    }
   ],
   "source": [
    "sub1.describe()"
   ]
  },
  {
   "cell_type": "markdown",
   "metadata": {},
   "source": [
    "### <font color=darkblue> Box Plot\n",
    "<font color=darkblue> Understanding the summary statistics using Box Plot after outlier elimination based on Z-Score"
   ]
  },
  {
   "cell_type": "code",
   "execution_count": 30,
   "metadata": {},
   "outputs": [
    {
     "data": {
      "text/plain": [
       "Text(0.7, 87.5, 'IQR')"
      ]
     },
     "execution_count": 30,
     "metadata": {},
     "output_type": "execute_result"
    },
    {
     "data": {
      "image/png": "[encoded data removed]",
      "text/plain": [
       "<Figure size 576x576 with 1 Axes>"
      ]
     },
     "metadata": {
      "needs_background": "light"
     },
     "output_type": "display_data"
    }
   ],
   "source": [
    "# Create boxplot for column=\"Amount\"\n",
    "sub1.boxplot(column=\"Amount\",return_type='axes',figsize=(8,8))\n",
    "\n",
    "# create text(x=0.74, y=22.25, s=\"3rd Quartile\")like Median, 1st Quartile,Min,Max,IQR:\n",
    "plt.text(x=0.74, y=102.00, s=\"3rd Quartile\")\n",
    "plt.text(x=0.8, y=87.00, s=\"Median\")\n",
    "plt.text(x=0.75, y=83.00, s=\"1st Quartile\")\n",
    "plt.text(x=0.90, y=92.00, s=\"Min\")\n",
    "plt.text(x=0.9, y=80.00, s=\"Max\")\n",
    "plt.text(x=0.7, y=87.5, s=\"IQR\", rotation=90, size=25)"
   ]
  },
  {
   "cell_type": "markdown",
   "metadata": {},
   "source": [
    "### <font color=darkblue> Plotting the summary Mean, Median, Mode using Histogram\n",
    "<font color=darkblue> "
   ]
  },
  {
   "cell_type": "code",
   "execution_count": 31,
   "metadata": {},
   "outputs": [
    {
     "name": "stdout",
     "output_type": "stream",
     "text": [
      "Mean:  40.09133659293384 \n",
      "Median:  31.0 \n",
      "Mode:  5.0\n"
     ]
    },
    {
     "data": {
      "image/png": "[encoded data removed]",
      "text/plain": [
       "<Figure size 720x360 with 1 Axes>"
      ]
     },
     "metadata": {
      "needs_background": "light"
     },
     "output_type": "display_data"
    }
   ],
   "source": [
    "mean=sub1['Amount'].mean()\n",
    "median=sub1['Amount'].median()\n",
    "mode=sub1['Amount'].mode()\n",
    "\n",
    "print('Mean: ',mean,'\\nMedian: ',median,'\\nMode: ',mode[0])\n",
    "\n",
    "plt.figure(figsize=(10,5)) # set the figure size\n",
    "plt.hist(sub1['Amount'],bins=100,color='lightblue')\n",
    "\n",
    "plt.axvline(mean,color='green',label='Mean')     \n",
    "plt.axvline(median,color='blue',label='Median')\n",
    "plt.axvline(mode[0],color='red',label='Mode1')\n",
    "#plt.axvline(mode[1],color='red',label='Mode2')\n",
    "\n",
    "plt.xlabel('Amount')   # label the x-axis\n",
    "plt.ylabel('Frequency')   # label the y-axis\n",
    "plt.legend()              # Plot the legend\n",
    "plt.show()"
   ]
  },
  {
   "cell_type": "markdown",
   "metadata": {},
   "source": [
    "###  IQR"
   ]
  },
  {
   "cell_type": "code",
   "execution_count": 32,
   "metadata": {},
   "outputs": [
    {
     "data": {
      "text/plain": [
       "product_quantity      0.0\n",
       "product_unit_cost    17.0\n",
       "Amount               27.0\n",
       "dtype: float64"
      ]
     },
     "execution_count": 32,
     "metadata": {},
     "output_type": "execute_result"
    }
   ],
   "source": [
    "sub1.quantile(0.75) - sub1.quantile(0.25)"
   ]
  },
  {
   "cell_type": "markdown",
   "metadata": {},
   "source": [
    "### <font color=darkblue> Check the Skewness and Kurtosis after outlier elimination based on Z-Score\n",
    "<font color=darkblue> "
   ]
  },
  {
   "cell_type": "code",
   "execution_count": 33,
   "metadata": {},
   "outputs": [],
   "source": [
    "sub_test = sub1.drop(['is_active', 'product_type','verify_status','source'], axis = 1)"
   ]
  },
  {
   "cell_type": "code",
   "execution_count": 34,
   "metadata": {},
   "outputs": [
    {
     "data": {
      "text/plain": [
       "product_quantity     2.532480\n",
       "product_unit_cost    3.098657\n",
       "Amount               2.203391\n",
       "dtype: float64"
      ]
     },
     "execution_count": 34,
     "metadata": {},
     "output_type": "execute_result"
    }
   ],
   "source": [
    "sub_test.skew()"
   ]
  },
  {
   "cell_type": "code",
   "execution_count": 35,
   "metadata": {},
   "outputs": [
    {
     "data": {
      "text/plain": [
       "product_quantity     37.543907\n",
       "product_unit_cost    14.050073\n",
       "Amount                7.056579\n",
       "dtype: float64"
      ]
     },
     "execution_count": 35,
     "metadata": {},
     "output_type": "execute_result"
    }
   ],
   "source": [
    "sub_test.kurt()"
   ]
  },
  {
   "cell_type": "markdown",
   "metadata": {},
   "source": [
    "### <font color=darkblue> Histogram for checking the Skewness\n",
    "\n",
    "\n",
    "<font color=darkblue> "
   ]
  },
  {
   "cell_type": "code",
   "execution_count": 36,
   "metadata": {},
   "outputs": [
    {
     "data": {
      "image/png": "[encoded data removed]",
      "text/plain": [
       "<Figure size 432x288 with 1 Axes>"
      ]
     },
     "metadata": {
      "needs_background": "light"
     },
     "output_type": "display_data"
    }
   ],
   "source": [
    "import scipy.stats as stats\n",
    "\n",
    "#convert pandas DataFrame object to numpy array and sort\n",
    "h = np.asarray(sub1['Amount'])\n",
    "h = sorted(h)\n",
    " \n",
    "#use the scipy stats module to fit a normal distirbution with same mean and standard deviation\n",
    "fit = stats.norm.pdf(h, np.mean(h), np.std(h)) \n",
    " \n",
    "#plot both series on the histogram\n",
    "plt.plot(h,fit,'-',linewidth = 2,label=\"Normal distribution with same mean and var\")\n",
    "plt.hist(h,normed=True,bins = 100,label=\"Actual distribution\")      \n",
    "plt.legend()\n",
    "plt.show()"
   ]
  },
  {
   "cell_type": "markdown",
   "metadata": {},
   "source": [
    "### <font color=darkblue> Inferences\n",
    "<font color=darkblue> \n",
    "    Skewness range is -1 to +1.                                                     \n",
    "    Skewness is 2.2033 which indicates the data is still skewed to the right.                                                   \n",
    "    Kurtosis of 7.056 indicates it is peaked.                                                       \n",
    "    The data has still some outliers.                                                                               "
   ]
  },
  {
   "cell_type": "markdown",
   "metadata": {},
   "source": [
    "### <font color=darkblue> Method - 2 Outlier elmination based on IQR\n",
    "Amount which are lesser than 25% by 1.5 times IQR and                                                     \n",
    "    amounts which are more than 75% by 1.5 times IQR are outliers.                                                  \n",
    "    These are eliminated and the remaining values saved in 'sub_iqr' Dataframe\n",
    "\n",
    "<font color=darkblue> "
   ]
  },
  {
   "cell_type": "code",
   "execution_count": 37,
   "metadata": {},
   "outputs": [],
   "source": [
    "sub['is_active'] = sub['is_active'].astype('object')\n",
    "sub['product_type'] = sub['product_type'].astype('object')\n",
    "sub['verify_status'] = sub['product_type'].astype('object')\n",
    "sub['source'] = sub['source'].astype('object')\n",
    "sub['product_quantity'] = sub['product_quantity'].astype('object')\n",
    "sub['product_unit_cost'] = sub['product_unit_cost'].astype('object')\n",
    "#sub['recently_changed_flag'] = sub['recently_changed_flag'].astype('object')\n",
    "#sub['fulfilled_by_vendor'] = sub['fulfilled_by_vendor'].astype('object')"
   ]
  },
  {
   "cell_type": "code",
   "execution_count": 38,
   "metadata": {},
   "outputs": [
    {
     "name": "stdout",
     "output_type": "stream",
     "text": [
      "Amount    29.0\n",
      "dtype: float64\n"
     ]
    }
   ],
   "source": [
    "Q1 = sub.quantile(0.25)\n",
    "Q3 = sub.quantile(0.75)\n",
    "IQR = Q3 - Q1\n",
    "print(IQR)\n",
    "sub_iqr = sub[~((sub < (Q1 - 1.5 * IQR)) |(sub > (Q3 + 1.5 * IQR))).any(axis=1)]"
   ]
  },
  {
   "cell_type": "code",
   "execution_count": 39,
   "metadata": {},
   "outputs": [
    {
     "data": {
      "text/plain": [
       "(277078, 17)"
      ]
     },
     "execution_count": 39,
     "metadata": {},
     "output_type": "execute_result"
    }
   ],
   "source": [
    "sub_iqr.shape"
   ]
  },
  {
   "cell_type": "code",
   "execution_count": 40,
   "metadata": {},
   "outputs": [],
   "source": [
    "sub_iqr['is_active'] = sub_iqr['is_active'].astype('object')\n",
    "sub_iqr['product_type'] = sub_iqr['product_type'].astype('category')\n",
    "sub_iqr['verify_status'] = sub_iqr['product_type'].astype('category')\n",
    "sub_iqr['source'] = sub_iqr['source'].astype('object')\n",
    "sub_iqr['product_quantity'] = sub_iqr['product_quantity'].astype('int')\n",
    "sub_iqr['product_unit_cost'] = sub_iqr['product_unit_cost'].astype('int')\n",
    "sub_iqr['subscription_type'] = sub_iqr['subscription_type'].astype('category')\n",
    "#sub['recently_changed_flag'] = sub['recently_changed_flag'].astype('object')\n",
    "#sub['fulfilled_by_vendor'] = sub['fulfilled_by_vendor'].astype('object')"
   ]
  },
  {
   "cell_type": "markdown",
   "metadata": {},
   "source": [
    "### <font color=darkblue> Five Number Summary\n",
    "<font color=darkblue> Checking the Five Number summary of the Dataset after Ouliter elimination based on IQR"
   ]
  },
  {
   "cell_type": "code",
   "execution_count": 41,
   "metadata": {},
   "outputs": [
    {
     "data": {
      "text/html": [
       "<div>\n",
       "<style scoped>\n",
       "    .dataframe tbody tr th:only-of-type {\n",
       "        vertical-align: middle;\n",
       "    }\n",
       "\n",
       "    .dataframe tbody tr th {\n",
       "        vertical-align: top;\n",
       "    }\n",
       "\n",
       "    .dataframe thead th {\n",
       "        text-align: right;\n",
       "    }\n",
       "</style>\n",
       "<table border=\"1\" class=\"dataframe\">\n",
       "  <thead>\n",
       "    <tr style=\"text-align: right;\">\n",
       "      <th></th>\n",
       "      <th>product_quantity</th>\n",
       "      <th>product_unit_cost</th>\n",
       "      <th>Amount</th>\n",
       "    </tr>\n",
       "  </thead>\n",
       "  <tbody>\n",
       "    <tr>\n",
       "      <th>count</th>\n",
       "      <td>277078.000000</td>\n",
       "      <td>277078.000000</td>\n",
       "      <td>277078.000000</td>\n",
       "    </tr>\n",
       "    <tr>\n",
       "      <th>mean</th>\n",
       "      <td>1.304510</td>\n",
       "      <td>26.510899</td>\n",
       "      <td>33.130194</td>\n",
       "    </tr>\n",
       "    <tr>\n",
       "      <th>std</th>\n",
       "      <td>0.664045</td>\n",
       "      <td>16.776323</td>\n",
       "      <td>20.752476</td>\n",
       "    </tr>\n",
       "    <tr>\n",
       "      <th>min</th>\n",
       "      <td>-22.000000</td>\n",
       "      <td>-50.000000</td>\n",
       "      <td>-22.000000</td>\n",
       "    </tr>\n",
       "    <tr>\n",
       "      <th>25%</th>\n",
       "      <td>1.000000</td>\n",
       "      <td>19.000000</td>\n",
       "      <td>20.500000</td>\n",
       "    </tr>\n",
       "    <tr>\n",
       "      <th>50%</th>\n",
       "      <td>1.000000</td>\n",
       "      <td>22.000000</td>\n",
       "      <td>28.000000</td>\n",
       "    </tr>\n",
       "    <tr>\n",
       "      <th>75%</th>\n",
       "      <td>1.000000</td>\n",
       "      <td>33.000000</td>\n",
       "      <td>44.000000</td>\n",
       "    </tr>\n",
       "    <tr>\n",
       "      <th>max</th>\n",
       "      <td>10.000000</td>\n",
       "      <td>300.000000</td>\n",
       "      <td>93.000000</td>\n",
       "    </tr>\n",
       "  </tbody>\n",
       "</table>\n",
       "</div>"
      ],
      "text/plain": [
       "       product_quantity  product_unit_cost         Amount\n",
       "count     277078.000000      277078.000000  277078.000000\n",
       "mean           1.304510          26.510899      33.130194\n",
       "std            0.664045          16.776323      20.752476\n",
       "min          -22.000000         -50.000000     -22.000000\n",
       "25%            1.000000          19.000000      20.500000\n",
       "50%            1.000000          22.000000      28.000000\n",
       "75%            1.000000          33.000000      44.000000\n",
       "max           10.000000         300.000000      93.000000"
      ]
     },
     "execution_count": 41,
     "metadata": {},
     "output_type": "execute_result"
    }
   ],
   "source": [
    "sub_iqr.describe()"
   ]
  },
  {
   "cell_type": "markdown",
   "metadata": {},
   "source": [
    "### <font color=darkblue> Box Plot\n",
    "<font color=darkblue> Understanding the summary statistics using Box Plot after outlier elimination based on IQR"
   ]
  },
  {
   "cell_type": "code",
   "execution_count": 42,
   "metadata": {},
   "outputs": [
    {
     "data": {
      "text/plain": [
       "Text(0.7, 87.5, 'IQR')"
      ]
     },
     "execution_count": 42,
     "metadata": {},
     "output_type": "execute_result"
    },
    {
     "data": {
      "image/png": "[encoded data removed]",
      "text/plain": [
       "<Figure size 576x576 with 1 Axes>"
      ]
     },
     "metadata": {
      "needs_background": "light"
     },
     "output_type": "display_data"
    }
   ],
   "source": [
    "# Create boxplot for column=\"Amount\"\n",
    "sub_iqr.boxplot(column=\"Amount\",return_type='axes',figsize=(8,8))\n",
    "\n",
    "# create text(x=0.74, y=22.25, s=\"3rd Quartile\")like Median, 1st Quartile,Min,Max,IQR:\n",
    "plt.text(x=0.74, y=102.00, s=\"3rd Quartile\")\n",
    "plt.text(x=0.8, y=87.00, s=\"Median\")\n",
    "plt.text(x=0.75, y=83.00, s=\"1st Quartile\")\n",
    "plt.text(x=0.90, y=92.00, s=\"Min\")\n",
    "plt.text(x=0.9, y=80.00, s=\"Max\")\n",
    "plt.text(x=0.7, y=87.5, s=\"IQR\", rotation=90, size=25)"
   ]
  },
  {
   "cell_type": "markdown",
   "metadata": {},
   "source": [
    "### <font color=darkblue> Plotting the summary Mean, Median, Mode using Histogram\n",
    "<font color=darkblue> "
   ]
  },
  {
   "cell_type": "code",
   "execution_count": 43,
   "metadata": {},
   "outputs": [
    {
     "name": "stdout",
     "output_type": "stream",
     "text": [
      "Mean:  33.13019366387803 \n",
      "Median:  28.0 \n",
      "Mode:  5.0\n"
     ]
    },
    {
     "data": {
      "image/png": "[encoded data removed]",
      "text/plain": [
       "<Figure size 720x360 with 1 Axes>"
      ]
     },
     "metadata": {
      "needs_background": "light"
     },
     "output_type": "display_data"
    }
   ],
   "source": [
    "mean=sub_iqr['Amount'].mean()\n",
    "median=sub_iqr['Amount'].median()\n",
    "mode=sub_iqr['Amount'].mode()\n",
    "\n",
    "print('Mean: ',mean,'\\nMedian: ',median,'\\nMode: ',mode[0])\n",
    "\n",
    "plt.figure(figsize=(10,5)) # set the figure size\n",
    "plt.hist(sub1['Amount'],bins=100,color='lightblue')\n",
    "\n",
    "plt.axvline(mean,color='green',label='Mean')     \n",
    "plt.axvline(median,color='blue',label='Median')\n",
    "plt.axvline(mode[0],color='red',label='Mode1')\n",
    "#plt.axvline(mode[1],color='red',label='Mode2')\n",
    "\n",
    "plt.xlabel('Amount')   # label the x-axis\n",
    "plt.ylabel('Frequency')   # label the y-axis\n",
    "plt.legend()              # Plot the legend\n",
    "plt.show()"
   ]
  },
  {
   "cell_type": "markdown",
   "metadata": {},
   "source": [
    "###  IQR"
   ]
  },
  {
   "cell_type": "code",
   "execution_count": 44,
   "metadata": {},
   "outputs": [
    {
     "data": {
      "text/plain": [
       "product_quantity      0.0\n",
       "product_unit_cost    14.0\n",
       "Amount               23.5\n",
       "dtype: float64"
      ]
     },
     "execution_count": 44,
     "metadata": {},
     "output_type": "execute_result"
    }
   ],
   "source": [
    "sub_iqr.quantile(0.75) - sub_iqr.quantile(0.25)"
   ]
  },
  {
   "cell_type": "markdown",
   "metadata": {},
   "source": [
    "### <font color=darkblue> Check the Skewness and Kurtosis after outlier elimination based on IQR\n",
    "<font color=darkblue> "
   ]
  },
  {
   "cell_type": "code",
   "execution_count": 45,
   "metadata": {},
   "outputs": [],
   "source": [
    "sub_iqr1 = sub_iqr.drop(['is_active', 'product_type','verify_status','source'], axis = 1)"
   ]
  },
  {
   "cell_type": "code",
   "execution_count": 46,
   "metadata": {},
   "outputs": [
    {
     "data": {
      "text/plain": [
       "product_quantity     2.219283\n",
       "product_unit_cost    1.405306\n",
       "Amount               0.748863\n",
       "dtype: float64"
      ]
     },
     "execution_count": 46,
     "metadata": {},
     "output_type": "execute_result"
    }
   ],
   "source": [
    "sub_iqr1.skew()"
   ]
  },
  {
   "cell_type": "code",
   "execution_count": 47,
   "metadata": {},
   "outputs": [
    {
     "data": {
      "text/plain": [
       "product_quantity     18.690621\n",
       "product_unit_cost     3.040142\n",
       "Amount                0.105175\n",
       "dtype: float64"
      ]
     },
     "execution_count": 47,
     "metadata": {},
     "output_type": "execute_result"
    }
   ],
   "source": [
    "sub_iqr1.kurt()"
   ]
  },
  {
   "cell_type": "markdown",
   "metadata": {},
   "source": [
    "### <font color=darkblue> Histogram for checking the Skewness\n",
    "\n",
    "\n",
    "<font color=darkblue> "
   ]
  },
  {
   "cell_type": "code",
   "execution_count": 48,
   "metadata": {},
   "outputs": [
    {
     "data": {
      "image/png": "[encoded data removed]",
      "text/plain": [
       "<Figure size 432x288 with 1 Axes>"
      ]
     },
     "metadata": {
      "needs_background": "light"
     },
     "output_type": "display_data"
    }
   ],
   "source": [
    "import scipy.stats as stats\n",
    "\n",
    "#convert pandas DataFrame object to numpy array and sort\n",
    "h = np.asarray(sub_iqr1['Amount'])\n",
    "h = sorted(h)\n",
    " \n",
    "#use the scipy stats module to fit a normal distirbution with same mean and standard deviation\n",
    "fit = stats.norm.pdf(h, np.mean(h), np.std(h)) \n",
    " \n",
    "#plot both series on the histogram\n",
    "plt.plot(h,fit,'-',linewidth = 2,label=\"Normal distribution with same mean and var\")\n",
    "plt.hist(h,normed=True,bins = 100,label=\"Actual distribution\")      \n",
    "plt.legend()\n",
    "plt.show()"
   ]
  },
  {
   "cell_type": "code",
   "execution_count": null,
   "metadata": {},
   "outputs": [],
   "source": []
  }
 ],
 "metadata": {
  "kernelspec": {
   "display_name": "Python 3",
   "language": "python",
   "name": "python3"
  },
  "language_info": {
   "codemirror_mode": {
    "name": "ipython",
    "version": 3
   },
   "file_extension": ".py",
   "mimetype": "text/x-python",
   "name": "python",
   "nbconvert_exporter": "python",
   "pygments_lexer": "ipython3",
   "version": "3.7.6"
  }
 },
 "nbformat": 4,
 "nbformat_minor": 4
}
